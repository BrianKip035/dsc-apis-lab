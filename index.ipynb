{
 "cells": [
  {
   "cell_type": "markdown",
   "metadata": {},
   "source": [
    "# APIs - Cumulative Lab\n",
    "\n",
    "\n",
    "## Introduction \n",
    "\n",
    "We've seen how the Yelp API works and how to create basic visualizations using Folium. It's time to put those skills to work in order to create a working map! Taking things a step further, you'll also independently explore how to perform pagination in order to retrieve a full results set from the Yelp API.\n",
    "\n",
    "## Objectives\n",
    "\n",
    "You will be able to: \n",
    "\n",
    "* Practice using functions to organize your code\n",
    "* Use pagination to retrieve all results from an API query\n",
    "* Practice parsing data returned from an API query\n",
    "* Practice interpreting visualizations of a dataset\n",
    "* Create maps using Folium"
   ]
  },
  {
   "cell_type": "markdown",
   "metadata": {},
   "source": [
    "## Your Task: Query Yelp for All Businesses in a Category and Analyze the Results\n",
    "\n",
    "![restaurant counter with pizza](images/restaurant_counter.jpg)\n",
    "\n",
    "Photo by <a href=\"https://unsplash.com/@jordanmadrid?utm_source=unsplash&utm_medium=referral&utm_content=creditCopyText\">Jordan Madrid</a> on <a href=\"/s/photos/pizza-restaurant?utm_source=unsplash&utm_medium=referral&utm_content=creditCopyText\">Unsplash</a>"
   ]
  },
  {
   "cell_type": "markdown",
   "metadata": {},
   "source": [
    "### Overview\n",
    "\n",
    "You've now worked with some API calls, but we have yet to see how to retrieve a more complete dataset in a programmatic manner. In this lab, you will write a query of businesses on Yelp, then use *pagination* to retrieve all possible results for that query. Then you will create a summary of your findings, including a Folium map of the geographic locations of those businesses.\n",
    "\n",
    "### Technical Details\n",
    "\n",
    "Returning to the Yelp API, the [documentation](https://www.yelp.com/developers/documentation/v3/business_search) also provides us details regarding the **API limits**. These often include details about the number of requests a user is allowed to make within a specified time limit and the maximum number of results to be returned. In this case, we are told that any request has a **maximum of 50 results per request** and defaults to 20. Furthermore, any search will be limited to a **total of 1000 results**. To retrieve all 1000 of these results, we would have to page through the results piece by piece, retrieving 50 at a time. Processes such as these are often referred to as pagination.\n",
    "\n",
    "Also, be mindful of the **API** ***rate*** **limits**. You can only make **5000 requests per day** and are also can make requests too fast. Start prototyping small before running a loop that could be faulty. You can also use `time.sleep(n)` to add delays. For more details see https://www.yelp.com/developers/documentation/v3/rate_limiting.\n",
    "\n",
    "In this lab, you will define a search and then paginate over the results to retrieve all of the results. You'll then parse these responses as a list of dictionaries (for further exploration) and create a map using Folium to visualize the results geographically.\n",
    "\n",
    "### Requirements\n",
    "\n",
    "#### 1. Make the Initial Request\n",
    "\n",
    "Start by filling in your API key to make the initial request to the business search API. Investigate the structure of the response you get back and start figuring out how you will extract the relevant information.\n",
    "\n",
    "#### 2. Add Pagination\n",
    "\n",
    "Using loops and functions, collect the maximum number of results for your query from the API.\n",
    "\n",
    "#### 3. Perform Exploratory Analysis\n",
    "\n",
    "Interpret visualizations related to the price range, average rating, and number of reviews for all query results.\n",
    "\n",
    "#### 4. Create a Folium Map\n",
    "\n",
    "Using latitude and longitude data, plot the query results on an interactive map."
   ]
  },
  {
   "cell_type": "markdown",
   "metadata": {},
   "source": [
    "## 1. Make the Initial Request\n",
    "\n",
    "### Querying\n",
    "\n",
    "Start by making an initial request to the Yelp API. Your search must include at least 2 parameters: **term** and **location**. For example, you might search for pizza restaurants in NYC. The term and location is up to you but make the request below.\n",
    "\n",
    "Use the `requests` library ([documentation here](https://requests.readthedocs.io/en/master/user/quickstart/#make-a-request)).\n",
    "\n",
    "You'll also need an API key from Yelp. If you haven't done this already, go to the Yelp [Manage App page](https://www.yelp.com/developers/v3/manage_app) and create a new app (after making an account if you haven't already)."
   ]
  },
  {
   "cell_type": "code",
   "execution_count": 1,
   "metadata": {},
   "outputs": [
    {
     "data": {
      "text/plain": [
       "<Response [200]>"
      ]
     },
     "execution_count": 1,
     "metadata": {},
     "output_type": "execute_result"
    }
   ],
   "source": [
    "# Replace None with appropriate code\n",
    "\n",
    "# Import the requests library\n",
    "import requests\n",
    "\n",
    "# Get this from the \"Manage App\" page. Make sure you set them\n",
    "# back to None before pushing this to GitHub, since otherwise\n",
    "# your credentials will be compromised\n",
    "api_key = 'None'\n",
    "\n",
    "# These can be whatever you want! But the solution uses \"pizza\"\n",
    "# and \"New York NY\" if you want to compare your work directly\n",
    "term = 'pizza'\n",
    "location = \"New York NY\"\n",
    "\n",
    "# Set up params for request\n",
    "url = \"https://api.yelp.com/v3/businesses/search\"\n",
    "headers = {\n",
    "    \"Authorization\": \"Bearer {}\".format(api_key)\n",
    "}\n",
    "url_params = {\n",
    "    \"term\": term.replace(\" \", \"+\"),\n",
    "    \"location\": location.replace(\" \", \"+\")\n",
    "}\n",
    "\n",
    "# Make the request using requests.get, passing in\n",
    "# url, headers=headers, and params=url_params\n",
    "response = requests.get(url, headers=headers, params=url_params)\n",
    "\n",
    "# Confirm we got a 200 response\n",
    "response"
   ]
  },
  {
   "cell_type": "code",
   "execution_count": 13,
   "metadata": {},
   "outputs": [
    {
     "data": {
      "text/plain": [
       "dict_keys(['businesses', 'total', 'region'])"
      ]
     },
     "execution_count": 13,
     "metadata": {},
     "output_type": "execute_result"
    }
   ],
   "source": [
    "# Run this cell without changes\n",
    "\n",
    "# Get the response body in JSON format\n",
    "response_json = response.json()\n",
    "# View the keys\n",
    "response_json.keys()"
   ]
  },
  {
   "cell_type": "markdown",
   "metadata": {},
   "source": [
    "### Extracting Data\n",
    "\n",
    "Now, retrieve the value associated with the `'businesses'` key, and inspect its contents."
   ]
  },
  {
   "cell_type": "code",
   "execution_count": 14,
   "metadata": {},
   "outputs": [
    {
     "data": {
      "text/plain": [
       "[{'id': 'zj8Lq1T8KIC5zwFief15jg',\n",
       "  'alias': 'prince-street-pizza-new-york-2',\n",
       "  'name': 'Prince Street Pizza',\n",
       "  'image_url': 'https://s3-media2.fl.yelpcdn.com/bphoto/AaCoCIY53sQkaqrquNKRJQ/o.jpg',\n",
       "  'is_closed': False,\n",
       "  'url': 'https://www.yelp.com/biz/prince-street-pizza-new-york-2?adjust_creative=A_UTdEWPgYdkeVmkrbwFVA&utm_campaign=yelp_api_v3&utm_medium=api_v3_business_search&utm_source=A_UTdEWPgYdkeVmkrbwFVA',\n",
       "  'review_count': 4593,\n",
       "  'categories': [{'alias': 'pizza', 'title': 'Pizza'},\n",
       "   {'alias': 'italian', 'title': 'Italian'}],\n",
       "  'rating': 4.5,\n",
       "  'coordinates': {'latitude': 40.72308755605564,\n",
       "   'longitude': -73.99453001177575},\n",
       "  'transactions': ['pickup', 'delivery'],\n",
       "  'price': '$',\n",
       "  'location': {'address1': '27 Prince St',\n",
       "   'address2': None,\n",
       "   'address3': '',\n",
       "   'city': 'New York',\n",
       "   'zip_code': '10012',\n",
       "   'country': 'US',\n",
       "   'state': 'NY',\n",
       "   'display_address': ['27 Prince St', 'New York, NY 10012']},\n",
       "  'phone': '+12129664100',\n",
       "  'display_phone': '(212) 966-4100',\n",
       "  'distance': 1961.8771417367063},\n",
       " {'id': 'ysqgdbSrezXgVwER2kQWKA',\n",
       "  'alias': 'julianas-brooklyn-3',\n",
       "  'name': \"Juliana's\",\n",
       "  'image_url': 'https://s3-media2.fl.yelpcdn.com/bphoto/HB5-BoJaVwOP5wLMG57TlA/o.jpg',\n",
       "  'is_closed': False,\n",
       "  'url': 'https://www.yelp.com/biz/julianas-brooklyn-3?adjust_creative=A_UTdEWPgYdkeVmkrbwFVA&utm_campaign=yelp_api_v3&utm_medium=api_v3_business_search&utm_source=A_UTdEWPgYdkeVmkrbwFVA',\n",
       "  'review_count': 2559,\n",
       "  'categories': [{'alias': 'pizza', 'title': 'Pizza'}],\n",
       "  'rating': 4.5,\n",
       "  'coordinates': {'latitude': 40.70274718768062,\n",
       "   'longitude': -73.99343490196397},\n",
       "  'transactions': ['delivery'],\n",
       "  'price': '$$',\n",
       "  'location': {'address1': '19 Old Fulton St',\n",
       "   'address2': '',\n",
       "   'address3': '',\n",
       "   'city': 'Brooklyn',\n",
       "   'zip_code': '11201',\n",
       "   'country': 'US',\n",
       "   'state': 'NY',\n",
       "   'display_address': ['19 Old Fulton St', 'Brooklyn, NY 11201']},\n",
       "  'phone': '+17185966700',\n",
       "  'display_phone': '(718) 596-6700',\n",
       "  'distance': 308.56984360837544}]"
      ]
     },
     "execution_count": 14,
     "metadata": {},
     "output_type": "execute_result"
    }
   ],
   "source": [
    "# Replace None with appropriate code\n",
    "\n",
    "# Retrieve the value from response_json\n",
    "businesses = response_json['businesses']\n",
    "\n",
    "# View the first 2 records\n",
    "businesses[:2]"
   ]
  },
  {
   "cell_type": "markdown",
   "metadata": {},
   "source": [
    "### Preparing Data\n",
    "\n",
    "Write a function `prepare_data` that takes in a list of dictionaries like `businesses` and returns a copy that has been prepared for analysis:\n",
    "\n",
    "1. The `coordinates` key-value pair has been converted into two separate key-value pairs, `latitude` and `longitude`\n",
    "2. All other key-value pairs except for `name`, `review_count`, `rating`, and `price` have been dropped\n",
    "3. All dictionaries missing one of the relevant keys or containing null values have been dropped\n",
    "\n",
    "In other words, the final keys for each dictionary should be `name`, `review_count`, `rating`, `price`, `latitude`, and `longitude`.\n",
    "\n",
    "Complete the function in the cell below:"
   ]
  },
  {
   "cell_type": "code",
   "execution_count": 15,
   "metadata": {},
   "outputs": [
    {
     "data": {
      "text/plain": [
       "[{'name': 'Prince Street Pizza',\n",
       "  'review_count': 4593,\n",
       "  'rating': 4.5,\n",
       "  'price': '$',\n",
       "  'latitude': 40.72308755605564,\n",
       "  'longitude': -73.99453001177575},\n",
       " {'name': \"Juliana's\",\n",
       "  'review_count': 2559,\n",
       "  'rating': 4.5,\n",
       "  'price': '$$',\n",
       "  'latitude': 40.70274718768062,\n",
       "  'longitude': -73.99343490196397},\n",
       " {'name': \"L'industrie Pizzeria\",\n",
       "  'review_count': 810,\n",
       "  'rating': 4.5,\n",
       "  'price': '$',\n",
       "  'latitude': 40.71162,\n",
       "  'longitude': -73.95783},\n",
       " {'name': 'Rubirosa',\n",
       "  'review_count': 2811,\n",
       "  'rating': 4.5,\n",
       "  'price': '$$',\n",
       "  'latitude': 40.722766,\n",
       "  'longitude': -73.996233},\n",
       " {'name': \"Lombardi's Pizza\",\n",
       "  'review_count': 6459,\n",
       "  'rating': 4.0,\n",
       "  'price': '$$',\n",
       "  'latitude': 40.7215934960083,\n",
       "  'longitude': -73.9955956044561}]"
      ]
     },
     "execution_count": 15,
     "metadata": {},
     "output_type": "execute_result"
    }
   ],
   "source": [
    "# Replace None with appropriate code\n",
    "\n",
    "def prepare_data(data_list):\n",
    "    \"\"\"\n",
    "    This function takes in a list of dictionaries and prepares it\n",
    "    for analysis\n",
    "    \"\"\"\n",
    "    \n",
    "    # Make a new list to hold results\n",
    "    results = []\n",
    "    \n",
    "    for business_data in data_list:\n",
    "    \n",
    "        # Make a new dictionary to hold prepared data for this business\n",
    "        prepared_data = {}\n",
    "        \n",
    "        # Extract name, review_count, rating, and price key-value pairs\n",
    "        # from business_data and add to prepared_data\n",
    "        # If a key is not present in business_data, add it to prepared_data\n",
    "        # with an associated value of None\n",
    "        for key in ('name', 'review_count', 'rating', 'price'):\n",
    "            prepared_data[key]= business_data.get(key,None)\n",
    "    \n",
    "        # Parse and add latitude and longitude columns\n",
    "        coordinates= business_data['coordinates']\n",
    "        prepared_data['latitude']=coordinates[\"latitude\"]\n",
    "        prepared_data['longitude']=coordinates['longitude']\n",
    "        \n",
    "        # Add to list if all values are present\n",
    "        if all(prepared_data.values()):\n",
    "            results.append(prepared_data)\n",
    "    \n",
    "    return results\n",
    "    \n",
    "# Test out function\n",
    "prepared_businesses = prepare_data(businesses)\n",
    "prepared_businesses[:5]"
   ]
  },
  {
   "cell_type": "markdown",
   "metadata": {},
   "source": [
    "Check that your function created the correct keys:"
   ]
  },
  {
   "cell_type": "code",
   "execution_count": 16,
   "metadata": {},
   "outputs": [],
   "source": [
    "# Run this cell without changes\n",
    "\n",
    "assert sorted(list(prepared_businesses[0].keys())) == ['latitude', 'longitude', 'name', 'price', 'rating', 'review_count']"
   ]
  },
  {
   "cell_type": "markdown",
   "metadata": {},
   "source": [
    "The following code will differ depending on your query, but we expect there to be 20 businesses in the original list, and potentially fewer in the prepared list (if any of them were missing data):"
   ]
  },
  {
   "cell_type": "code",
   "execution_count": 17,
   "metadata": {},
   "outputs": [
    {
     "name": "stdout",
     "output_type": "stream",
     "text": [
      "Original: 20\n",
      "Prepared: 20\n"
     ]
    }
   ],
   "source": [
    "# Run this cell without changes\n",
    "print(\"Original:\", len(businesses))\n",
    "print(\"Prepared:\", len(prepared_businesses))"
   ]
  },
  {
   "cell_type": "markdown",
   "metadata": {},
   "source": [
    "Great! We will reuse this function once we have retrieved the full dataset."
   ]
  },
  {
   "cell_type": "markdown",
   "metadata": {},
   "source": [
    "## 2. Add Pagination\n",
    "\n",
    "Now that you are able to extract information from one page of the response, let's figure out how to request as many pages as possible.\n",
    "\n",
    "### Determining the Total\n",
    "\n",
    "Depending on the number of total results for your query, you will either retrieve all of the results, or just the first 1000 (if there are more than 1000 total).\n",
    "\n",
    "We can find the total number of results using the `\"total\"` key:"
   ]
  },
  {
   "cell_type": "code",
   "execution_count": 18,
   "metadata": {},
   "outputs": [
    {
     "data": {
      "text/plain": [
       "12200"
      ]
     },
     "execution_count": 18,
     "metadata": {},
     "output_type": "execute_result"
    }
   ],
   "source": [
    "# Run this cell without changes\n",
    "response_json[\"total\"]"
   ]
  },
  {
   "cell_type": "markdown",
   "metadata": {},
   "source": [
    "(This is specific to the implementation of the Yelp API. Some APIs will just tell you that there are more pages, or will tell you the number of pages total, rather than the total number of results. If you're not sure, always check the documentation.)\n",
    "\n",
    "In the cell below, assign the variable `total` to either the value shown above (if it is less than 1000), or 1000."
   ]
  },
  {
   "cell_type": "code",
   "execution_count": 19,
   "metadata": {},
   "outputs": [],
   "source": [
    "# Replace None with appropriate code\n",
    "total = 100"
   ]
  },
  {
   "cell_type": "markdown",
   "metadata": {},
   "source": [
    "### Calculating the Offsets\n",
    "\n",
    "The documentation states in the parameters section:\n",
    "\n",
    "> **Name**: `limit`, **Type:** int, **Description:** Optional. Number of business results to return. By default, it will return 20. Maximum is 50.\n",
    "\n",
    "> **Name**: `offset`, **Type:** int, **Description:** Optional. Offset the list of returned business results by this amount.\n",
    "\n",
    "So, to get the most results with the fewest API calls we want to set a limit of 50 every time. If, say, we wanted to get 210 total results, that would mean:\n",
    "\n",
    "1. Offset of `0` (first 50 records)\n",
    "2. Offset of `50` (second 50 records)\n",
    "3. Offset of `100` (third 50 records)\n",
    "4. Offset of `150` (fourth 50 records)\n",
    "5. Offset of `200` (final 10 records)\n",
    "\n",
    "In the cell below, create a function `get_offsets` that takes in a total and returns a list of offsets for that total. You can assume that there is a limit of 50 every time.\n",
    "\n",
    "*Hint: you can use `range` ([documentation here](https://docs.python.org/3.3/library/stdtypes.html?highlight=range#range)) to do this in one line of code. Just make the returned result is a list.*"
   ]
  },
  {
   "cell_type": "code",
   "execution_count": 20,
   "metadata": {},
   "outputs": [],
   "source": [
    "# Replace None with appropriate code\n",
    "def get_offsets(total):\n",
    "    \"\"\"\n",
    "    Get a list of offsets needed to get all pages\n",
    "    of data up until the total\n",
    "    \"\"\"\n",
    "    return list(range(0, total, 50))"
   ]
  },
  {
   "cell_type": "markdown",
   "metadata": {},
   "source": [
    "Check that your function works below:"
   ]
  },
  {
   "cell_type": "code",
   "execution_count": 21,
   "metadata": {},
   "outputs": [],
   "source": [
    "# Run this cell without changes\n",
    "\n",
    "assert get_offsets(200) == [0, 50, 100, 150]\n",
    "assert get_offsets(210) == [0, 50, 100, 150, 200]"
   ]
  },
  {
   "cell_type": "markdown",
   "metadata": {},
   "source": [
    "### Putting It All Together\n",
    "\n",
    "Recall that the following variable has already been declared for you:"
   ]
  },
  {
   "cell_type": "code",
   "execution_count": 22,
   "metadata": {},
   "outputs": [
    {
     "data": {
      "text/plain": [
       "{'term': 'pizza', 'location': 'New+York+NY'}"
      ]
     },
     "execution_count": 22,
     "metadata": {},
     "output_type": "execute_result"
    }
   ],
   "source": [
    "# Run this cell without changes\n",
    "url_params"
   ]
  },
  {
   "cell_type": "markdown",
   "metadata": {},
   "source": [
    "We'll go ahead and also specify that the limit should be 50 every time:"
   ]
  },
  {
   "cell_type": "code",
   "execution_count": 23,
   "metadata": {},
   "outputs": [],
   "source": [
    "# Run this cell without changes\n",
    "url_params[\"limit\"] = 50"
   ]
  },
  {
   "cell_type": "markdown",
   "metadata": {},
   "source": [
    "In order to modify the offset, you'll need to add it to `url_params` with the key `\"offset\"` and whatever value is needed.\n",
    "\n",
    "In the cell below, write code that:\n",
    "\n",
    "* Creates an empty list for the full prepared dataset\n",
    "* Loops over all of the offsets from `get_offsets` and makes an API call each time with the specified offset\n",
    "* Calls `prepare_data` to get a cleaned version of the result of each API call\n",
    "* Extends the full prepared dataset list with each query's prepared dataset"
   ]
  },
  {
   "cell_type": "code",
   "execution_count": 24,
   "metadata": {},
   "outputs": [
    {
     "data": {
      "text/plain": [
       "74"
      ]
     },
     "execution_count": 24,
     "metadata": {},
     "output_type": "execute_result"
    }
   ],
   "source": [
    "# Replace None with appropriate code\n",
    "\n",
    "# Create an empty list for the full prepared dataset\n",
    "full_dataset = []\n",
    "\n",
    "for offset in get_offsets(total):\n",
    "    # Add or update the \"offset\" key-value pair in url_params\n",
    "    url_params['offset'] = offset\n",
    "    \n",
    "    # Make the query and get the response\n",
    "    response = requests.get(url, headers=headers, params=url_params)\n",
    "    \n",
    "    # Get the response body in JSON format\n",
    "    response_json = response.json()\n",
    "    \n",
    "    # Get the list of businesses from the response_json\n",
    "    businesses = response_json['businesses']\n",
    "    \n",
    "    # Call the prepare_data function to get a list of processed data\n",
    "    prepared_businesses = prepare_data(businesses)\n",
    "    \n",
    "    # Extend full_dataset with this list (don't append, or you'll get\n",
    "    # a list of lists instead of a flat list)\n",
    "    full_dataset.extend(prepared_businesses)\n",
    "\n",
    "# Check the length of the full dataset. It will be up to `total`,\n",
    "# potentially less if there were missing values\n",
    "len(full_dataset)"
   ]
  },
  {
   "cell_type": "markdown",
   "metadata": {},
   "source": [
    "This code may take up to a few minutes to run.\n",
    "\n",
    "If you get an error trying to get the response body in JSON format, try adding `time.sleep(1)` right after the `requests.get` line, so your code will sleep for 1 second between each API call."
   ]
  },
  {
   "cell_type": "markdown",
   "metadata": {},
   "source": [
    "## 3. Perform Exploratory Analysis\n",
    "\n",
    "Take the businesses from the previous question and do an initial exploratory analysis. We have provided some plots for you to interpret:"
   ]
  },
  {
   "cell_type": "code",
   "execution_count": 25,
   "metadata": {},
   "outputs": [
    {
     "data": {
      "image/png": "[encoded data removed]",
      "text/plain": [
       "<Figure size 1152x360 with 3 Axes>"
      ]
     },
     "metadata": {
      "needs_background": "light"
     },
     "output_type": "display_data"
    }
   ],
   "source": [
    "# Run this cell without changes\n",
    "from collections import Counter\n",
    "import matplotlib.pyplot as plt\n",
    "%matplotlib inline\n",
    "\n",
    "fig, (ax1, ax2, ax3) = plt.subplots(ncols=3, figsize=(16, 5))\n",
    "\n",
    "# Plot distribution of number of reviews\n",
    "all_review_counts = [x[\"review_count\"] for x in full_dataset]\n",
    "ax1.hist(all_review_counts)\n",
    "ax1.set_title(\"Review Count Distribution\")\n",
    "ax1.set_xlabel(\"Number of Reviews\")\n",
    "ax1.set_ylabel(\"Number of Businesses\")\n",
    "\n",
    "# Plot rating distribution\n",
    "all_ratings = [x[\"rating\"] for x in full_dataset]\n",
    "rating_counter = Counter(all_ratings)\n",
    "rating_keys = sorted(rating_counter.keys())\n",
    "ax2.bar(rating_keys, [rating_counter[key] for key in rating_keys])\n",
    "ax2.set_title(\"Rating Distribution\")\n",
    "ax2.set_xlabel(\"Rating\")\n",
    "ax2.set_ylabel(\"Number of Businesses\")\n",
    "\n",
    "# Plot price distribution\n",
    "all_prices = [x[\"price\"].replace(\"$\", r\"\\$\") for x in full_dataset]\n",
    "price_counter = Counter(all_prices)\n",
    "price_keys = sorted(price_counter.keys())\n",
    "ax3.bar(price_keys, [price_counter[key] for key in price_keys])\n",
    "ax3.set_title(\"Price Distribution\")\n",
    "ax3.set_xlabel(\"Price Category\")\n",
    "ax3.set_ylabel(\"Number of Businesses\");"
   ]
  },
  {
   "cell_type": "markdown",
   "metadata": {},
   "source": [
    "Describe the distributions displayed above and interpret them in the context of your query. (Your answer may differ from the solution branch depending on your query.)"
   ]
  },
  {
   "cell_type": "code",
   "execution_count": 26,
   "metadata": {},
   "outputs": [
    {
     "data": {
      "text/plain": [
       "'\\nOn the graph on review Count distribution The Number of businesses decrease as the number of Reviews decrease\\nOn the second graph the number of bussinesse increase as the ratins increase\\n \\n'"
      ]
     },
     "execution_count": 26,
     "metadata": {},
     "output_type": "execute_result"
    }
   ],
   "source": [
    "# Replace None with appropriate text\n",
    "\"\"\"\n",
    "On the graph on review Count distribution The Number of businesses decrease as the number of Reviews decrease\n",
    "On the second graph the number of bussinesse increase as the ratins increase\n",
    " \n",
    "\"\"\""
   ]
  },
  {
   "cell_type": "markdown",
   "metadata": {},
   "source": [
    "In the cell below, we also plot the rating distributions by price. In this setup, a price of one dollar sign is \"lower price\" and everything else is \"higher price\"."
   ]
  },
  {
   "cell_type": "code",
   "execution_count": 27,
   "metadata": {},
   "outputs": [
    {
     "data": {
      "image/png": "[encoded data removed]",
      "text/plain": [
       "<Figure size 432x288 with 1 Axes>"
      ]
     },
     "metadata": {
      "needs_background": "light"
     },
     "output_type": "display_data"
    }
   ],
   "source": [
    "# Run this cell without changes\n",
    "\n",
    "higher_price = []\n",
    "lower_price = []\n",
    "for row in full_dataset:\n",
    "    if row[\"price\"] == \"$\":\n",
    "        lower_price.append(row[\"rating\"])\n",
    "    else:\n",
    "        higher_price.append(row[\"rating\"])\n",
    "        \n",
    "fig, ax = plt.subplots()\n",
    "\n",
    "ax.hist([higher_price, lower_price], label=[\"higher price\", \"lower price\"], density=True)\n",
    "\n",
    "ax.legend();"
   ]
  },
  {
   "cell_type": "markdown",
   "metadata": {},
   "source": [
    "Is a higher price associated with a higher rating? (No need for any additional math/statistics, just interpret what you see in the plot.)"
   ]
  },
  {
   "cell_type": "code",
   "execution_count": 28,
   "metadata": {},
   "outputs": [
    {
     "data": {
      "text/plain": [
       "'\\nYes it is as the bar level also increase as the rating increase \\n'"
      ]
     },
     "execution_count": 28,
     "metadata": {},
     "output_type": "execute_result"
    }
   ],
   "source": [
    "# Replace None with appropriate text\n",
    "\"\"\"\n",
    "Yes it is as the bar level also increase as the rating increase \n",
    "\"\"\""
   ]
  },
  {
   "cell_type": "markdown",
   "metadata": {},
   "source": [
    "Finally, let's look at ratings vs. review counts:"
   ]
  },
  {
   "cell_type": "code",
   "execution_count": 29,
   "metadata": {},
   "outputs": [
    {
     "data": {
      "image/png": "[encoded data removed]",
      "text/plain": [
       "<Figure size 1152x360 with 1 Axes>"
      ]
     },
     "metadata": {
      "needs_background": "light"
     },
     "output_type": "display_data"
    }
   ],
   "source": [
    "# Run this cell without changes\n",
    "fig, ax = plt.subplots(figsize=(16,5))\n",
    "\n",
    "ax.scatter(all_review_counts, all_ratings, alpha=0.2)\n",
    "ax.set_xlabel(\"Number of Reviews\")\n",
    "ax.set_ylabel(\"Rating\")\n",
    "# \"zoom in\" to a subset of review counts\n",
    "ax.set_xlim(left=0, right=1000);"
   ]
  },
  {
   "cell_type": "markdown",
   "metadata": {},
   "source": [
    "Is a higher number of reviews associated with a higher rating?"
   ]
  },
  {
   "cell_type": "code",
   "execution_count": 30,
   "metadata": {},
   "outputs": [
    {
     "data": {
      "text/plain": [
       "'\\nYes \\n'"
      ]
     },
     "execution_count": 30,
     "metadata": {},
     "output_type": "execute_result"
    }
   ],
   "source": [
    "# Replace None with appropriate text\n",
    "\"\"\"\n",
    "Yes \n",
    "\"\"\""
   ]
  },
  {
   "cell_type": "markdown",
   "metadata": {},
   "source": [
    "## 4. Create a Folium Map\n",
    "\n",
    "Make a map using Folium of the businesses you retrieved. Be sure to also add popups to the markers giving some basic information such as name, rating and price.\n",
    "\n",
    "You can center the map around the latitude and longitude of the first item in `full_dataset`."
   ]
  },
  {
   "cell_type": "code",
   "execution_count": 31,
   "metadata": {},
   "outputs": [
    {
     "data": {
      "text/html": [
       "<div style=\"width:100%;\"><div style=\"position:relative;width:100%;height:0;padding-bottom:60%;\"><span style=\"color:#565656\">Make this Notebook Trusted to load map: File -> Trust Notebook</span><iframe src=\"about:blank\" style=\"position:absolute;width:100%;height:100%;left:0;top:0;border:none !important;\" data-html=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 onload=\"this.contentDocument.open();this.contentDocument.write(atob(this.getAttribute('data-html')));this.contentDocument.close();\" allowfullscreen webkitallowfullscreen mozallowfullscreen></iframe></div></div>"
      ],
      "text/plain": [
       "<folium.folium.Map at 0x1fda4deeb20>"
      ]
     },
     "execution_count": 31,
     "metadata": {},
     "output_type": "execute_result"
    }
   ],
   "source": [
    "# Replace None with appropriate code\n",
    "# Import the library\n",
    "import folium\n",
    "# Set up center latitude and longitude\n",
    "center_lat = full_dataset[0]['latitude']\n",
    "center_long = full_dataset[0]['longitude']\n",
    "# Initialize map with center lat and long\n",
    "yelp_map = folium.Map([center_lat,center_long], zoom_start=14)\n",
    "# Adjust this limit to see more or fewer businesses\n",
    "limit=100\n",
    "for business in full_dataset[:limit]:\n",
    "    # Extract information about business\n",
    "    lat = business['latitude']\n",
    "    long = business['longitude']\n",
    "    name = business['name']\n",
    "    rating = business['rating']\n",
    "    price = business['price']\n",
    "    details = \"{}\\nPrice: {} Rating:{}\".format(name,price,rating)\n",
    "    # Create popup with relevant details\n",
    "    popup = folium.Popup(details, parse_html=True)\n",
    "    # Create marker with relevant lat/long and popup\n",
    "    marker = folium.Marker(location=[lat, long], popup=popup)\n",
    "    marker.add_to(yelp_map)\n",
    "yelp_map"
   ]
  },
  {
   "cell_type": "markdown",
   "metadata": {},
   "source": [
    "## Summary\n",
    "\n",
    "Nice work! In this lab, you've made multiple API calls to Yelp in order to paginate through a results set, performing some basic exploratory analysis and then creating a nice interactive map to display the results using Folium! Well done!"
   ]
  }
 ],
 "metadata": {
  "kernelspec": {
   "display_name": "Python 3",
   "language": "python",
   "name": "python3"
  },
  "language_info": {
   "codemirror_mode": {
    "name": "ipython",
    "version": 3
   },
   "file_extension": ".py",
   "mimetype": "text/x-python",
   "name": "python",
   "nbconvert_exporter": "python",
   "pygments_lexer": "ipython3",
   "version": "3.8.5"
  },
  "toc": {
   "base_numbering": 1,
   "nav_menu": {},
   "number_sections": true,
   "sideBar": true,
   "skip_h1_title": false,
   "title_cell": "Table of Contents",
   "title_sidebar": "Contents",
   "toc_cell": false,
   "toc_position": {},
   "toc_section_display": true,
   "toc_window_display": false
  }
 },
 "nbformat": 4,
 "nbformat_minor": 2
}

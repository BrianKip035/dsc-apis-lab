{
 "cells": [
  {
   "cell_type": "markdown",
   "metadata": {},
   "source": [
    "# APIs - Cumulative Lab\n",
    "\n",
    "\n",
    "## Introduction \n",
    "\n",
    "We've seen how the Yelp API works and how to create basic visualizations using Folium. It's time to put those skills to work in order to create a working map! Taking things a step further, you'll also independently explore how to perform pagination in order to retrieve a full results set from the Yelp API.\n",
    "\n",
    "## Objectives\n",
    "\n",
    "You will be able to: \n",
    "\n",
    "* Practice using functions to organize your code\n",
    "* Use pagination to retrieve all results from an API query\n",
    "* Practice parsing data returned from an API query\n",
    "* Practice interpreting visualizations of a dataset\n",
    "* Create maps using Folium"
   ]
  },
  {
   "cell_type": "markdown",
   "metadata": {},
   "source": [
    "## Your Task: Query Yelp for All Businesses in a Category and Analyze the Results\n",
    "\n",
    "![restaurant counter with pizza](images/restaurant_counter.jpg)\n",
    "\n",
    "Photo by <a href=\"https://unsplash.com/@jordanmadrid?utm_source=unsplash&utm_medium=referral&utm_content=creditCopyText\">Jordan Madrid</a> on <a href=\"/s/photos/pizza-restaurant?utm_source=unsplash&utm_medium=referral&utm_content=creditCopyText\">Unsplash</a>"
   ]
  },
  {
   "cell_type": "markdown",
   "metadata": {},
   "source": [
    "### Overview\n",
    "\n",
    "You've now worked with some API calls, but we have yet to see how to retrieve a more complete dataset in a programmatic manner. In this lab, you will write a query of businesses on Yelp, then use *pagination* to retrieve all possible results for that query. Then you will create a summary of your findings, including a Folium map of the geographic locations of those businesses.\n",
    "\n",
    "### Technical Details\n",
    "\n",
    "Returning to the Yelp API, the [documentation](https://www.yelp.com/developers/documentation/v3/business_search) also provides us details regarding the **API limits**. These often include details about the number of requests a user is allowed to make within a specified time limit and the maximum number of results to be returned. In this case, we are told that any request has a **maximum of 50 results per request** and defaults to 20. Furthermore, any search will be limited to a **total of 1000 results**. To retrieve all 1000 of these results, we would have to page through the results piece by piece, retrieving 50 at a time. Processes such as these are often referred to as pagination.\n",
    "\n",
    "Also, be mindful of the **API** ***rate*** **limits**. You can only make **5000 requests per day** and are also can make requests too fast. Start prototyping small before running a loop that could be faulty. You can also use `time.sleep(n)` to add delays. For more details see https://www.yelp.com/developers/documentation/v3/rate_limiting.\n",
    "\n",
    "In this lab, you will define a search and then paginate over the results to retrieve all of the results. You'll then parse these responses as a list of dictionaries (for further exploration) and create a map using Folium to visualize the results geographically.\n",
    "\n",
    "### Requirements\n",
    "\n",
    "#### 1. Make the Initial Request\n",
    "\n",
    "Start by filling in your API key to make the initial request to the business search API. Investigate the structure of the response you get back and start figuring out how you will extract the relevant information.\n",
    "\n",
    "#### 2. Add Pagination\n",
    "\n",
    "Using loops and functions, collect the maximum number of results for your query from the API.\n",
    "\n",
    "#### 3. Perform Exploratory Analysis\n",
    "\n",
    "Interpret visualizations related to the price range, average rating, and number of reviews for all query results.\n",
    "\n",
    "#### 4. Create a Folium Map\n",
    "\n",
    "Using latitude and longitude data, plot the query results on an interactive map."
   ]
  },
  {
   "cell_type": "markdown",
   "metadata": {},
   "source": [
    "## 1. Make the Initial Request\n",
    "\n",
    "### Querying\n",
    "\n",
    "Start by making an initial request to the Yelp API. Your search must include at least 2 parameters: **term** and **location**. For example, you might search for pizza restaurants in NYC. The term and location is up to you but make the request below.\n",
    "\n",
    "Use the `requests` library ([documentation here](https://requests.readthedocs.io/en/master/user/quickstart/#make-a-request)).\n",
    "\n",
    "You'll also need an API key from Yelp. If you haven't done this already, go to the Yelp [Manage App page](https://www.yelp.com/developers/v3/manage_app) and create a new app (after making an account if you haven't already)."
   ]
  },
  {
   "cell_type": "code",
   "execution_count": 30,
   "metadata": {},
   "outputs": [
    {
     "data": {
      "text/plain": [
       "<Response [200]>"
      ]
     },
     "execution_count": 30,
     "metadata": {},
     "output_type": "execute_result"
    }
   ],
   "source": [
    "# Replace None with appropriate code\n",
    "\n",
    "# Import the requests library\n",
    "import requests\n",
    "\n",
    "# Get this from the \"Manage App\" page. Make sure you set them\n",
    "# back to None before pushing this to GitHub, since otherwise\n",
    "# your credentials will be compromised\n",
    "api_key = 'VQzvLy8mKVXz4oHlMV8reVTk2WWVdQFwgxmbwz_6jpIhAHSuGDFoIG_hprlV20wDvOOFzMfozUHudp1GRgrT1cVA9YzOQX1UI_xpyK769W20mPkpoezJlPBsYrFzY3Yx'\n",
    "\n",
    "# These can be whatever you want! But the solution uses \"pizza\"\n",
    "# and \"New York NY\" if you want to compare your work directly\n",
    "term = 'pizza'\n",
    "location = \"New York NY\"\n",
    "\n",
    "# Set up params for request\n",
    "url = \"https://api.yelp.com/v3/businesses/search\"\n",
    "headers = {\n",
    "    \"Authorization\": \"Bearer {}\".format(api_key)\n",
    "}\n",
    "url_params = {\n",
    "    \"term\": term.replace(\" \", \"+\"),\n",
    "    \"location\": location.replace(\" \", \"+\")\n",
    "}\n",
    "\n",
    "# Make the request using requests.get, passing in\n",
    "# url, headers=headers, and params=url_params\n",
    "response = requests.get(url, headers=headers, params=url_params)\n",
    "\n",
    "# Confirm we got a 200 response\n",
    "response"
   ]
  },
  {
   "cell_type": "code",
   "execution_count": 31,
   "metadata": {},
   "outputs": [
    {
     "data": {
      "text/plain": [
       "dict_keys(['businesses', 'total', 'region'])"
      ]
     },
     "execution_count": 31,
     "metadata": {},
     "output_type": "execute_result"
    }
   ],
   "source": [
    "# Run this cell without changes\n",
    "\n",
    "# Get the response body in JSON format\n",
    "response_json = response.json()\n",
    "# View the keys\n",
    "response_json.keys()"
   ]
  },
  {
   "cell_type": "markdown",
   "metadata": {},
   "source": [
    "### Extracting Data\n",
    "\n",
    "Now, retrieve the value associated with the `'businesses'` key, and inspect its contents."
   ]
  },
  {
   "cell_type": "code",
   "execution_count": 32,
   "metadata": {},
   "outputs": [
    {
     "data": {
      "text/plain": [
       "[{'id': 'zj8Lq1T8KIC5zwFief15jg',\n",
       "  'alias': 'prince-street-pizza-new-york-2',\n",
       "  'name': 'Prince Street Pizza',\n",
       "  'image_url': 'https://s3-media2.fl.yelpcdn.com/bphoto/AaCoCIY53sQkaqrquNKRJQ/o.jpg',\n",
       "  'is_closed': False,\n",
       "  'url': 'https://www.yelp.com/biz/prince-street-pizza-new-york-2?adjust_creative=A_UTdEWPgYdkeVmkrbwFVA&utm_campaign=yelp_api_v3&utm_medium=api_v3_business_search&utm_source=A_UTdEWPgYdkeVmkrbwFVA',\n",
       "  'review_count': 4593,\n",
       "  'categories': [{'alias': 'pizza', 'title': 'Pizza'},\n",
       "   {'alias': 'italian', 'title': 'Italian'}],\n",
       "  'rating': 4.5,\n",
       "  'coordinates': {'latitude': 40.72308755605564,\n",
       "   'longitude': -73.99453001177575},\n",
       "  'transactions': ['delivery', 'pickup'],\n",
       "  'price': '$',\n",
       "  'location': {'address1': '27 Prince St',\n",
       "   'address2': None,\n",
       "   'address3': '',\n",
       "   'city': 'New York',\n",
       "   'zip_code': '10012',\n",
       "   'country': 'US',\n",
       "   'state': 'NY',\n",
       "   'display_address': ['27 Prince St', 'New York, NY 10012']},\n",
       "  'phone': '+12129664100',\n",
       "  'display_phone': '(212) 966-4100',\n",
       "  'distance': 1961.8771417367063},\n",
       " {'id': 'ysqgdbSrezXgVwER2kQWKA',\n",
       "  'alias': 'julianas-brooklyn-3',\n",
       "  'name': \"Juliana's\",\n",
       "  'image_url': 'https://s3-media2.fl.yelpcdn.com/bphoto/HB5-BoJaVwOP5wLMG57TlA/o.jpg',\n",
       "  'is_closed': False,\n",
       "  'url': 'https://www.yelp.com/biz/julianas-brooklyn-3?adjust_creative=A_UTdEWPgYdkeVmkrbwFVA&utm_campaign=yelp_api_v3&utm_medium=api_v3_business_search&utm_source=A_UTdEWPgYdkeVmkrbwFVA',\n",
       "  'review_count': 2558,\n",
       "  'categories': [{'alias': 'pizza', 'title': 'Pizza'}],\n",
       "  'rating': 4.5,\n",
       "  'coordinates': {'latitude': 40.70274718768062,\n",
       "   'longitude': -73.99343490196397},\n",
       "  'transactions': ['delivery'],\n",
       "  'price': '$$',\n",
       "  'location': {'address1': '19 Old Fulton St',\n",
       "   'address2': '',\n",
       "   'address3': '',\n",
       "   'city': 'Brooklyn',\n",
       "   'zip_code': '11201',\n",
       "   'country': 'US',\n",
       "   'state': 'NY',\n",
       "   'display_address': ['19 Old Fulton St', 'Brooklyn, NY 11201']},\n",
       "  'phone': '+17185966700',\n",
       "  'display_phone': '(718) 596-6700',\n",
       "  'distance': 308.56984360837544}]"
      ]
     },
     "execution_count": 32,
     "metadata": {},
     "output_type": "execute_result"
    }
   ],
   "source": [
    "# Replace None with appropriate code\n",
    "\n",
    "# Retrieve the value from response_json\n",
    "businesses = response_json['businesses']\n",
    "\n",
    "# View the first 2 records\n",
    "businesses[:2]"
   ]
  },
  {
   "cell_type": "markdown",
   "metadata": {},
   "source": [
    "### Preparing Data\n",
    "\n",
    "Write a function `prepare_data` that takes in a list of dictionaries like `businesses` and returns a copy that has been prepared for analysis:\n",
    "\n",
    "1. The `coordinates` key-value pair has been converted into two separate key-value pairs, `latitude` and `longitude`\n",
    "2. All other key-value pairs except for `name`, `review_count`, `rating`, and `price` have been dropped\n",
    "3. All dictionaries missing one of the relevant keys or containing null values have been dropped\n",
    "\n",
    "In other words, the final keys for each dictionary should be `name`, `review_count`, `rating`, `price`, `latitude`, and `longitude`.\n",
    "\n",
    "Complete the function in the cell below:"
   ]
  },
  {
   "cell_type": "code",
   "execution_count": 33,
   "metadata": {},
   "outputs": [
    {
     "data": {
      "text/plain": [
       "[{'name': 'Prince Street Pizza',\n",
       "  'review_count': 4593,\n",
       "  'rating': 4.5,\n",
       "  'price': '$',\n",
       "  'latitude': 40.72308755605564,\n",
       "  'longitude': -73.99453001177575},\n",
       " {'name': \"Juliana's\",\n",
       "  'review_count': 2558,\n",
       "  'rating': 4.5,\n",
       "  'price': '$$',\n",
       "  'latitude': 40.70274718768062,\n",
       "  'longitude': -73.99343490196397},\n",
       " {'name': \"L'industrie Pizzeria\",\n",
       "  'review_count': 810,\n",
       "  'rating': 4.5,\n",
       "  'price': '$',\n",
       "  'latitude': 40.71162,\n",
       "  'longitude': -73.95783},\n",
       " {'name': 'Rubirosa',\n",
       "  'review_count': 2811,\n",
       "  'rating': 4.5,\n",
       "  'price': '$$',\n",
       "  'latitude': 40.722766,\n",
       "  'longitude': -73.996233},\n",
       " {'name': \"Lombardi's Pizza\",\n",
       "  'review_count': 6459,\n",
       "  'rating': 4.0,\n",
       "  'price': '$$',\n",
       "  'latitude': 40.7215934960083,\n",
       "  'longitude': -73.9955956044561}]"
      ]
     },
     "execution_count": 33,
     "metadata": {},
     "output_type": "execute_result"
    }
   ],
   "source": [
    "# Replace None with appropriate code\n",
    "\n",
    "def prepare_data(data_list):\n",
    "    \"\"\"\n",
    "    This function takes in a list of dictionaries and prepares it\n",
    "    for analysis\n",
    "    \"\"\"\n",
    "    \n",
    "    # Make a new list to hold results\n",
    "    results = []\n",
    "    \n",
    "    for business_data in data_list:\n",
    "    \n",
    "        # Make a new dictionary to hold prepared data for this business\n",
    "        prepared_data = {}\n",
    "        \n",
    "        # Extract name, review_count, rating, and price key-value pairs\n",
    "        # from business_data and add to prepared_data\n",
    "        # If a key is not present in business_data, add it to prepared_data\n",
    "        # with an associated value of None\n",
    "        for key in ('name', 'review_count', 'rating', 'price'):\n",
    "            prepared_data[key]= business_data.get(key,None)\n",
    "    \n",
    "        # Parse and add latitude and longitude columns\n",
    "        coordinates= business_data['coordinates']\n",
    "        prepared_data['latitude']=coordinates[\"latitude\"]\n",
    "        prepared_data['longitude']=coordinates['longitude']\n",
    "        \n",
    "        # Add to list if all values are present\n",
    "        if all(prepared_data.values()):\n",
    "            results.append(prepared_data)\n",
    "    \n",
    "    return results\n",
    "    \n",
    "# Test out function\n",
    "prepared_businesses = prepare_data(businesses)\n",
    "prepared_businesses[:5]"
   ]
  },
  {
   "cell_type": "markdown",
   "metadata": {},
   "source": [
    "Check that your function created the correct keys:"
   ]
  },
  {
   "cell_type": "code",
   "execution_count": 34,
   "metadata": {},
   "outputs": [],
   "source": [
    "# Run this cell without changes\n",
    "\n",
    "assert sorted(list(prepared_businesses[0].keys())) == ['latitude', 'longitude', 'name', 'price', 'rating', 'review_count']"
   ]
  },
  {
   "cell_type": "markdown",
   "metadata": {},
   "source": [
    "The following code will differ depending on your query, but we expect there to be 20 businesses in the original list, and potentially fewer in the prepared list (if any of them were missing data):"
   ]
  },
  {
   "cell_type": "code",
   "execution_count": 35,
   "metadata": {},
   "outputs": [
    {
     "name": "stdout",
     "output_type": "stream",
     "text": [
      "Original: 20\n",
      "Prepared: 20\n"
     ]
    }
   ],
   "source": [
    "# Run this cell without changes\n",
    "print(\"Original:\", len(businesses))\n",
    "print(\"Prepared:\", len(prepared_businesses))"
   ]
  },
  {
   "cell_type": "markdown",
   "metadata": {},
   "source": [
    "Great! We will reuse this function once we have retrieved the full dataset."
   ]
  },
  {
   "cell_type": "markdown",
   "metadata": {},
   "source": [
    "## 2. Add Pagination\n",
    "\n",
    "Now that you are able to extract information from one page of the response, let's figure out how to request as many pages as possible.\n",
    "\n",
    "### Determining the Total\n",
    "\n",
    "Depending on the number of total results for your query, you will either retrieve all of the results, or just the first 1000 (if there are more than 1000 total).\n",
    "\n",
    "We can find the total number of results using the `\"total\"` key:"
   ]
  },
  {
   "cell_type": "code",
   "execution_count": 36,
   "metadata": {},
   "outputs": [
    {
     "data": {
      "text/plain": [
       "12300"
      ]
     },
     "execution_count": 36,
     "metadata": {},
     "output_type": "execute_result"
    }
   ],
   "source": [
    "# Run this cell without changes\n",
    "response_json[\"total\"]"
   ]
  },
  {
   "cell_type": "markdown",
   "metadata": {},
   "source": [
    "(This is specific to the implementation of the Yelp API. Some APIs will just tell you that there are more pages, or will tell you the number of pages total, rather than the total number of results. If you're not sure, always check the documentation.)\n",
    "\n",
    "In the cell below, assign the variable `total` to either the value shown above (if it is less than 1000), or 1000."
   ]
  },
  {
   "cell_type": "code",
   "execution_count": 37,
   "metadata": {},
   "outputs": [],
   "source": [
    "# Replace None with appropriate code\n",
    "total = 100"
   ]
  },
  {
   "cell_type": "markdown",
   "metadata": {},
   "source": [
    "### Calculating the Offsets\n",
    "\n",
    "The documentation states in the parameters section:\n",
    "\n",
    "> **Name**: `limit`, **Type:** int, **Description:** Optional. Number of business results to return. By default, it will return 20. Maximum is 50.\n",
    "\n",
    "> **Name**: `offset`, **Type:** int, **Description:** Optional. Offset the list of returned business results by this amount.\n",
    "\n",
    "So, to get the most results with the fewest API calls we want to set a limit of 50 every time. If, say, we wanted to get 210 total results, that would mean:\n",
    "\n",
    "1. Offset of `0` (first 50 records)\n",
    "2. Offset of `50` (second 50 records)\n",
    "3. Offset of `100` (third 50 records)\n",
    "4. Offset of `150` (fourth 50 records)\n",
    "5. Offset of `200` (final 10 records)\n",
    "\n",
    "In the cell below, create a function `get_offsets` that takes in a total and returns a list of offsets for that total. You can assume that there is a limit of 50 every time.\n",
    "\n",
    "*Hint: you can use `range` ([documentation here](https://docs.python.org/3.3/library/stdtypes.html?highlight=range#range)) to do this in one line of code. Just make the returned result is a list.*"
   ]
  },
  {
   "cell_type": "code",
   "execution_count": 38,
   "metadata": {},
   "outputs": [],
   "source": [
    "# Replace None with appropriate code\n",
    "def get_offsets(total):\n",
    "    \"\"\"\n",
    "    Get a list of offsets needed to get all pages\n",
    "    of data up until the total\n",
    "    \"\"\"\n",
    "    return list(range(0, total, 50))"
   ]
  },
  {
   "cell_type": "markdown",
   "metadata": {},
   "source": [
    "Check that your function works below:"
   ]
  },
  {
   "cell_type": "code",
   "execution_count": 39,
   "metadata": {},
   "outputs": [],
   "source": [
    "# Run this cell without changes\n",
    "\n",
    "assert get_offsets(200) == [0, 50, 100, 150]\n",
    "assert get_offsets(210) == [0, 50, 100, 150, 200]"
   ]
  },
  {
   "cell_type": "markdown",
   "metadata": {},
   "source": [
    "### Putting It All Together\n",
    "\n",
    "Recall that the following variable has already been declared for you:"
   ]
  },
  {
   "cell_type": "code",
   "execution_count": 40,
   "metadata": {},
   "outputs": [
    {
     "data": {
      "text/plain": [
       "{'term': 'pizza', 'location': 'New+York+NY'}"
      ]
     },
     "execution_count": 40,
     "metadata": {},
     "output_type": "execute_result"
    }
   ],
   "source": [
    "# Run this cell without changes\n",
    "url_params"
   ]
  },
  {
   "cell_type": "markdown",
   "metadata": {},
   "source": [
    "We'll go ahead and also specify that the limit should be 50 every time:"
   ]
  },
  {
   "cell_type": "code",
   "execution_count": 41,
   "metadata": {},
   "outputs": [],
   "source": [
    "# Run this cell without changes\n",
    "url_params[\"limit\"] = 50"
   ]
  },
  {
   "cell_type": "markdown",
   "metadata": {},
   "source": [
    "In order to modify the offset, you'll need to add it to `url_params` with the key `\"offset\"` and whatever value is needed.\n",
    "\n",
    "In the cell below, write code that:\n",
    "\n",
    "* Creates an empty list for the full prepared dataset\n",
    "* Loops over all of the offsets from `get_offsets` and makes an API call each time with the specified offset\n",
    "* Calls `prepare_data` to get a cleaned version of the result of each API call\n",
    "* Extends the full prepared dataset list with each query's prepared dataset"
   ]
  },
  {
   "cell_type": "code",
   "execution_count": 42,
   "metadata": {},
   "outputs": [
    {
     "data": {
      "text/plain": [
       "74"
      ]
     },
     "execution_count": 42,
     "metadata": {},
     "output_type": "execute_result"
    }
   ],
   "source": [
    "# Replace None with appropriate code\n",
    "\n",
    "# Create an empty list for the full prepared dataset\n",
    "full_dataset = []\n",
    "\n",
    "for offset in get_offsets(total):\n",
    "    # Add or update the \"offset\" key-value pair in url_params\n",
    "    url_params['offset'] = offset\n",
    "    \n",
    "    # Make the query and get the response\n",
    "    response = requests.get(url, headers=headers, params=url_params)\n",
    "    \n",
    "    # Get the response body in JSON format\n",
    "    response_json = response.json()\n",
    "    \n",
    "    # Get the list of businesses from the response_json\n",
    "    businesses = response_json['businesses']\n",
    "    \n",
    "    # Call the prepare_data function to get a list of processed data\n",
    "    prepared_businesses = prepare_data(businesses)\n",
    "    \n",
    "    # Extend full_dataset with this list (don't append, or you'll get\n",
    "    # a list of lists instead of a flat list)\n",
    "    full_dataset.extend(prepared_businesses)\n",
    "\n",
    "# Check the length of the full dataset. It will be up to `total`,\n",
    "# potentially less if there were missing values\n",
    "len(full_dataset)"
   ]
  },
  {
   "cell_type": "markdown",
   "metadata": {},
   "source": [
    "This code may take up to a few minutes to run.\n",
    "\n",
    "If you get an error trying to get the response body in JSON format, try adding `time.sleep(1)` right after the `requests.get` line, so your code will sleep for 1 second between each API call."
   ]
  },
  {
   "cell_type": "markdown",
   "metadata": {},
   "source": [
    "## 3. Perform Exploratory Analysis\n",
    "\n",
    "Take the businesses from the previous question and do an initial exploratory analysis. We have provided some plots for you to interpret:"
   ]
  },
  {
   "cell_type": "code",
   "execution_count": 43,
   "metadata": {},
   "outputs": [
    {
     "data": {
      "image/png": "[encoded data removed]",
      "text/plain": [
       "<Figure size 1152x360 with 3 Axes>"
      ]
     },
     "metadata": {
      "needs_background": "light"
     },
     "output_type": "display_data"
    }
   ],
   "source": [
    "# Run this cell without changes\n",
    "from collections import Counter\n",
    "import matplotlib.pyplot as plt\n",
    "%matplotlib inline\n",
    "\n",
    "fig, (ax1, ax2, ax3) = plt.subplots(ncols=3, figsize=(16, 5))\n",
    "\n",
    "# Plot distribution of number of reviews\n",
    "all_review_counts = [x[\"review_count\"] for x in full_dataset]\n",
    "ax1.hist(all_review_counts)\n",
    "ax1.set_title(\"Review Count Distribution\")\n",
    "ax1.set_xlabel(\"Number of Reviews\")\n",
    "ax1.set_ylabel(\"Number of Businesses\")\n",
    "\n",
    "# Plot rating distribution\n",
    "all_ratings = [x[\"rating\"] for x in full_dataset]\n",
    "rating_counter = Counter(all_ratings)\n",
    "rating_keys = sorted(rating_counter.keys())\n",
    "ax2.bar(rating_keys, [rating_counter[key] for key in rating_keys])\n",
    "ax2.set_title(\"Rating Distribution\")\n",
    "ax2.set_xlabel(\"Rating\")\n",
    "ax2.set_ylabel(\"Number of Businesses\")\n",
    "\n",
    "# Plot price distribution\n",
    "all_prices = [x[\"price\"].replace(\"$\", r\"\\$\") for x in full_dataset]\n",
    "price_counter = Counter(all_prices)\n",
    "price_keys = sorted(price_counter.keys())\n",
    "ax3.bar(price_keys, [price_counter[key] for key in price_keys])\n",
    "ax3.set_title(\"Price Distribution\")\n",
    "ax3.set_xlabel(\"Price Category\")\n",
    "ax3.set_ylabel(\"Number of Businesses\");"
   ]
  },
  {
   "cell_type": "markdown",
   "metadata": {},
   "source": [
    "Describe the distributions displayed above and interpret them in the context of your query. (Your answer may differ from the solution branch depending on your query.)"
   ]
  },
  {
   "cell_type": "code",
   "execution_count": 58,
   "metadata": {},
   "outputs": [
    {
     "data": {
      "text/plain": [
       "'\\nOn the graph on review Count distribution The Number of businesses decrease as the number of Reviews decrease\\nOn the second graph the number of bussinesse increase as the ratins increase\\n \\n'"
      ]
     },
     "execution_count": 58,
     "metadata": {},
     "output_type": "execute_result"
    }
   ],
   "source": [
    "# Replace None with appropriate text\n",
    "\"\"\"\n",
    "On the graph on review Count distribution The Number of businesses decrease as the number of Reviews decrease\n",
    "On the second graph the number of bussinesse increase as the ratins increase\n",
    " \n",
    "\"\"\""
   ]
  },
  {
   "cell_type": "markdown",
   "metadata": {},
   "source": [
    "In the cell below, we also plot the rating distributions by price. In this setup, a price of one dollar sign is \"lower price\" and everything else is \"higher price\"."
   ]
  },
  {
   "cell_type": "code",
   "execution_count": 46,
   "metadata": {},
   "outputs": [
    {
     "data": {
      "image/png": "[encoded data removed]",
      "text/plain": [
       "<Figure size 432x288 with 1 Axes>"
      ]
     },
     "metadata": {
      "needs_background": "light"
     },
     "output_type": "display_data"
    }
   ],
   "source": [
    "# Run this cell without changes\n",
    "\n",
    "higher_price = []\n",
    "lower_price = []\n",
    "for row in full_dataset:\n",
    "    if row[\"price\"] == \"$\":\n",
    "        lower_price.append(row[\"rating\"])\n",
    "    else:\n",
    "        higher_price.append(row[\"rating\"])\n",
    "        \n",
    "fig, ax = plt.subplots()\n",
    "\n",
    "ax.hist([higher_price, lower_price], label=[\"higher price\", \"lower price\"], density=True)\n",
    "\n",
    "ax.legend();"
   ]
  },
  {
   "cell_type": "markdown",
   "metadata": {},
   "source": [
    "Is a higher price associated with a higher rating? (No need for any additional math/statistics, just interpret what you see in the plot.)"
   ]
  },
  {
   "cell_type": "code",
   "execution_count": 54,
   "metadata": {},
   "outputs": [
    {
     "data": {
      "text/plain": [
       "'\\nYes it is as the bar level also increase as the rating increase \\n'"
      ]
     },
     "execution_count": 54,
     "metadata": {},
     "output_type": "execute_result"
    }
   ],
   "source": [
    "# Replace None with appropriate text\n",
    "\"\"\"\n",
    "Yes it is as the bar level also increase as the rating increase \n",
    "\"\"\""
   ]
  },
  {
   "cell_type": "markdown",
   "metadata": {},
   "source": [
    "Finally, let's look at ratings vs. review counts:"
   ]
  },
  {
   "cell_type": "code",
   "execution_count": 48,
   "metadata": {},
   "outputs": [
    {
     "data": {
      "image/png": "[encoded data removed]",
      "text/plain": [
       "<Figure size 1152x360 with 1 Axes>"
      ]
     },
     "metadata": {
      "needs_background": "light"
     },
     "output_type": "display_data"
    }
   ],
   "source": [
    "# Run this cell without changes\n",
    "fig, ax = plt.subplots(figsize=(16,5))\n",
    "\n",
    "ax.scatter(all_review_counts, all_ratings, alpha=0.2)\n",
    "ax.set_xlabel(\"Number of Reviews\")\n",
    "ax.set_ylabel(\"Rating\")\n",
    "# \"zoom in\" to a subset of review counts\n",
    "ax.set_xlim(left=0, right=1000);"
   ]
  },
  {
   "cell_type": "markdown",
   "metadata": {},
   "source": [
    "Is a higher number of reviews associated with a higher rating?"
   ]
  },
  {
   "cell_type": "code",
   "execution_count": 57,
   "metadata": {},
   "outputs": [
    {
     "data": {
      "text/plain": [
       "'\\nYes \\n'"
      ]
     },
     "execution_count": 57,
     "metadata": {},
     "output_type": "execute_result"
    }
   ],
   "source": [
    "# Replace None with appropriate text\n",
    "\"\"\"\n",
    "Yes \n",
    "\"\"\""
   ]
  },
  {
   "cell_type": "markdown",
   "metadata": {},
   "source": [
    "## 4. Create a Folium Map\n",
    "\n",
    "Make a map using Folium of the businesses you retrieved. Be sure to also add popups to the markers giving some basic information such as name, rating and price.\n",
    "\n",
    "You can center the map around the latitude and longitude of the first item in `full_dataset`."
   ]
  },
  {
   "cell_type": "code",
   "execution_count": 56,
   "metadata": {},
   "outputs": [
    {
     "data": {
      "text/html": [
       "<div style=\"width:100%;\"><div style=\"position:relative;width:100%;height:0;padding-bottom:60%;\"><span style=\"color:#565656\">Make this Notebook Trusted to load map: File -> Trust Notebook</span><iframe src=\"about:blank\" style=\"position:absolute;width:100%;height:100%;left:0;top:0;border:none !important;\" data-html=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 onload=\"this.contentDocument.open();this.contentDocument.write(atob(this.getAttribute('data-html')));this.contentDocument.close();\" allowfullscreen webkitallowfullscreen mozallowfullscreen></iframe></div></div>"
      ],
      "text/plain": [
       "<folium.folium.Map at 0x226687ac6a0>"
      ]
     },
     "execution_count": 56,
     "metadata": {},
     "output_type": "execute_result"
    }
   ],
   "source": [
    "# Replace None with appropriate code\n",
    "# Import the library\n",
    "import folium\n",
    "# Set up center latitude and longitude\n",
    "center_lat = full_dataset[0]['latitude']\n",
    "center_long = full_dataset[0]['longitude']\n",
    "# Initialize map with center lat and long\n",
    "yelp_map = folium.Map([center_lat,center_long], zoom_start=14)\n",
    "# Adjust this limit to see more or fewer businesses\n",
    "limit=100\n",
    "for business in full_dataset[:limit]:\n",
    "    # Extract information about business\n",
    "    lat = business['latitude']\n",
    "    long = business['longitude']\n",
    "    name = business['name']\n",
    "    rating = business['rating']\n",
    "    price = business['price']\n",
    "    details = \"{}\\nPrice: {} Rating:{}\".format(name,price,rating)\n",
    "    # Create popup with relevant details\n",
    "    popup = folium.Popup(details, parse_html=True)\n",
    "    # Create marker with relevant lat/long and popup\n",
    "    marker = folium.Marker(location=[lat, long], popup=popup)\n",
    "    marker.add_to(yelp_map)\n",
    "yelp_map"
   ]
  },
  {
   "cell_type": "markdown",
   "metadata": {},
   "source": [
    "## Summary\n",
    "\n",
    "Nice work! In this lab, you've made multiple API calls to Yelp in order to paginate through a results set, performing some basic exploratory analysis and then creating a nice interactive map to display the results using Folium! Well done!"
   ]
  }
 ],
 "metadata": {
  "kernelspec": {
   "display_name": "Python 3",
   "language": "python",
   "name": "python3"
  },
  "language_info": {
   "codemirror_mode": {
    "name": "ipython",
    "version": 3
   },
   "file_extension": ".py",
   "mimetype": "text/x-python",
   "name": "python",
   "nbconvert_exporter": "python",
   "pygments_lexer": "ipython3",
   "version": "3.8.5"
  },
  "toc": {
   "base_numbering": 1,
   "nav_menu": {},
   "number_sections": true,
   "sideBar": true,
   "skip_h1_title": false,
   "title_cell": "Table of Contents",
   "title_sidebar": "Contents",
   "toc_cell": false,
   "toc_position": {},
   "toc_section_display": true,
   "toc_window_display": false
  }
 },
 "nbformat": 4,
 "nbformat_minor": 2
}
